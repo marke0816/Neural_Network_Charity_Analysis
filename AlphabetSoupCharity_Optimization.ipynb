{
 "metadata": {
  "language_info": {
   "codemirror_mode": {
    "name": "ipython",
    "version": 3
   },
   "file_extension": ".py",
   "mimetype": "text/x-python",
   "name": "python",
   "nbconvert_exporter": "python",
   "pygments_lexer": "ipython3",
   "version": "3.7.10"
  },
  "orig_nbformat": 4,
  "kernelspec": {
   "name": "python3",
   "display_name": "Python 3.7.10 64-bit ('mlenv': conda)"
  },
  "interpreter": {
   "hash": "e1150ced384a7a9bbb83df921ec402a530283b282fc0c454dcd211d9dfcd2157"
  }
 },
 "nbformat": 4,
 "nbformat_minor": 2,
 "cells": [
  {
   "cell_type": "code",
   "execution_count": 59,
   "metadata": {},
   "outputs": [
    {
     "output_type": "execute_result",
     "data": {
      "text/plain": [
       "        EIN                                      NAME APPLICATION_TYPE  \\\n",
       "0  10520599              BLUE KNIGHTS MOTORCYCLE CLUB              T10   \n",
       "1  10531628    AMERICAN CHESAPEAKE CLUB CHARITABLE TR               T3   \n",
       "2  10547893        ST CLOUD PROFESSIONAL FIREFIGHTERS               T5   \n",
       "3  10553066            SOUTHSIDE ATHLETIC ASSOCIATION               T3   \n",
       "4  10556103  GENETIC RESEARCH INSTITUTE OF THE DESERT               T3   \n",
       "\n",
       "        AFFILIATION CLASSIFICATION      USE_CASE  ORGANIZATION  STATUS  \\\n",
       "0       Independent          C1000    ProductDev   Association       1   \n",
       "1       Independent          C2000  Preservation  Co-operative       1   \n",
       "2  CompanySponsored          C3000    ProductDev   Association       1   \n",
       "3  CompanySponsored          C2000  Preservation         Trust       1   \n",
       "4       Independent          C1000     Heathcare         Trust       1   \n",
       "\n",
       "      INCOME_AMT SPECIAL_CONSIDERATIONS  ASK_AMT  IS_SUCCESSFUL  \n",
       "0              0                      N     5000              1  \n",
       "1         1-9999                      N   108590              1  \n",
       "2              0                      N     5000              0  \n",
       "3    10000-24999                      N     6692              1  \n",
       "4  100000-499999                      N   142590              1  "
      ],
      "text/html": "<div>\n<style scoped>\n    .dataframe tbody tr th:only-of-type {\n        vertical-align: middle;\n    }\n\n    .dataframe tbody tr th {\n        vertical-align: top;\n    }\n\n    .dataframe thead th {\n        text-align: right;\n    }\n</style>\n<table border=\"1\" class=\"dataframe\">\n  <thead>\n    <tr style=\"text-align: right;\">\n      <th></th>\n      <th>EIN</th>\n      <th>NAME</th>\n      <th>APPLICATION_TYPE</th>\n      <th>AFFILIATION</th>\n      <th>CLASSIFICATION</th>\n      <th>USE_CASE</th>\n      <th>ORGANIZATION</th>\n      <th>STATUS</th>\n      <th>INCOME_AMT</th>\n      <th>SPECIAL_CONSIDERATIONS</th>\n      <th>ASK_AMT</th>\n      <th>IS_SUCCESSFUL</th>\n    </tr>\n  </thead>\n  <tbody>\n    <tr>\n      <th>0</th>\n      <td>10520599</td>\n      <td>BLUE KNIGHTS MOTORCYCLE CLUB</td>\n      <td>T10</td>\n      <td>Independent</td>\n      <td>C1000</td>\n      <td>ProductDev</td>\n      <td>Association</td>\n      <td>1</td>\n      <td>0</td>\n      <td>N</td>\n      <td>5000</td>\n      <td>1</td>\n    </tr>\n    <tr>\n      <th>1</th>\n      <td>10531628</td>\n      <td>AMERICAN CHESAPEAKE CLUB CHARITABLE TR</td>\n      <td>T3</td>\n      <td>Independent</td>\n      <td>C2000</td>\n      <td>Preservation</td>\n      <td>Co-operative</td>\n      <td>1</td>\n      <td>1-9999</td>\n      <td>N</td>\n      <td>108590</td>\n      <td>1</td>\n    </tr>\n    <tr>\n      <th>2</th>\n      <td>10547893</td>\n      <td>ST CLOUD PROFESSIONAL FIREFIGHTERS</td>\n      <td>T5</td>\n      <td>CompanySponsored</td>\n      <td>C3000</td>\n      <td>ProductDev</td>\n      <td>Association</td>\n      <td>1</td>\n      <td>0</td>\n      <td>N</td>\n      <td>5000</td>\n      <td>0</td>\n    </tr>\n    <tr>\n      <th>3</th>\n      <td>10553066</td>\n      <td>SOUTHSIDE ATHLETIC ASSOCIATION</td>\n      <td>T3</td>\n      <td>CompanySponsored</td>\n      <td>C2000</td>\n      <td>Preservation</td>\n      <td>Trust</td>\n      <td>1</td>\n      <td>10000-24999</td>\n      <td>N</td>\n      <td>6692</td>\n      <td>1</td>\n    </tr>\n    <tr>\n      <th>4</th>\n      <td>10556103</td>\n      <td>GENETIC RESEARCH INSTITUTE OF THE DESERT</td>\n      <td>T3</td>\n      <td>Independent</td>\n      <td>C1000</td>\n      <td>Heathcare</td>\n      <td>Trust</td>\n      <td>1</td>\n      <td>100000-499999</td>\n      <td>N</td>\n      <td>142590</td>\n      <td>1</td>\n    </tr>\n  </tbody>\n</table>\n</div>"
     },
     "metadata": {},
     "execution_count": 59
    }
   ],
   "source": [
    "# Import our dependencies\n",
    "from sklearn.model_selection import train_test_split\n",
    "from sklearn.preprocessing import StandardScaler,OneHotEncoder\n",
    "import pandas as pd\n",
    "import tensorflow as tf\n",
    "\n",
    "#  Import and read the charity_data.csv.\n",
    "application_df = pd.read_csv(\"Resources/charity_data.csv\")\n",
    "application_df.head()"
   ]
  },
  {
   "cell_type": "code",
   "execution_count": 60,
   "metadata": {},
   "outputs": [],
   "source": [
    "# Drop the non-beneficial ID columns, 'EIN' and 'NAME'.\n",
    "application_df.drop(['EIN', 'NAME'], axis=1, inplace=True)\n",
    "\n",
    "# Look at APPLICATION_TYPE value counts for binning\n",
    "application_type_counts = application_df['APPLICATION_TYPE'].value_counts()\n",
    "\n",
    "# Determine which values to replace if counts are less than ...?\n",
    "replace_application = list(application_type_counts[application_type_counts < 500].index)\n",
    "\n",
    "# Replace in dataframe\n",
    "for app in replace_application:\n",
    "    application_df.APPLICATION_TYPE = application_df.APPLICATION_TYPE.replace(app,\"Other\")\n",
    "\n",
    "# Look at CLASSIFICATION value counts for binning\n",
    "classification_value_counts = application_df['CLASSIFICATION'].value_counts()\n",
    "\n",
    "# Determine which values to replace if counts are less than ..?\n",
    "replace_class = list(classification_value_counts[classification_value_counts < 500].index)\n",
    "\n",
    "# Replace in dataframe\n",
    "for cls in replace_class:\n",
    "    application_df.CLASSIFICATION = application_df.CLASSIFICATION.replace(cls,\"Other\")"
   ]
  },
  {
   "cell_type": "code",
   "execution_count": 61,
   "metadata": {},
   "outputs": [],
   "source": [
    "# Generate our categorical variable lists\n",
    "application_categorical = application_df.dtypes[application_df.dtypes == \"object\"].index.tolist()\n",
    "\n",
    "# Create a OneHotEncoder instance\n",
    "enc = OneHotEncoder(sparse=False)\n",
    "\n",
    "# Fit and transform the OneHotEncoder using the categorical variable list\n",
    "encode_df = pd.DataFrame(enc.fit_transform(application_df[application_categorical]))\n",
    "\n",
    "# Add the encoded variable names to the dataframe\n",
    "encode_df.columns = enc.get_feature_names(application_categorical)"
   ]
  },
  {
   "cell_type": "code",
   "execution_count": 62,
   "metadata": {},
   "outputs": [],
   "source": [
    "# Merge one-hot encoded features and drop the originals\n",
    "application_df = application_df.merge(encode_df, left_index=True, right_index=True)\n",
    "application_df = application_df.drop(columns = application_categorical)\n",
    "\n",
    "# Split our preprocessed data into our features and target arrays\n",
    "y = application_df['IS_SUCCESSFUL'].values\n",
    "X = application_df.drop(['IS_SUCCESSFUL'], 1).values\n",
    "\n",
    "# Split the preprocessed data into a training and testing dataset\n",
    "X_train, X_test, y_train, y_test = train_test_split(X, y, random_state=42)"
   ]
  },
  {
   "cell_type": "code",
   "execution_count": 63,
   "metadata": {},
   "outputs": [
    {
     "output_type": "execute_result",
     "data": {
      "text/plain": [
       "44"
      ]
     },
     "metadata": {},
     "execution_count": 63
    }
   ],
   "source": [
    "len(X_train[0])"
   ]
  },
  {
   "cell_type": "code",
   "execution_count": 64,
   "metadata": {},
   "outputs": [],
   "source": [
    "# Create a StandardScaler instances\n",
    "scaler = StandardScaler()\n",
    "\n",
    "# Fit the StandardScaler\n",
    "X_scaler = scaler.fit(X_train)\n",
    "\n",
    "# Scale the data\n",
    "X_train_scaled = X_scaler.transform(X_train)\n",
    "X_test_scaled = X_scaler.transform(X_test)"
   ]
  },
  {
   "cell_type": "code",
   "execution_count": 65,
   "metadata": {},
   "outputs": [
    {
     "output_type": "stream",
     "name": "stdout",
     "text": [
      "Model: \"sequential_5\"\n_________________________________________________________________\nLayer (type)                 Output Shape              Param #   \n=================================================================\ndense_17 (Dense)             (None, 50)                2250      \n_________________________________________________________________\ndense_18 (Dense)             (None, 50)                2550      \n_________________________________________________________________\ndense_19 (Dense)             (None, 50)                2550      \n_________________________________________________________________\ndense_20 (Dense)             (None, 50)                2550      \n_________________________________________________________________\ndense_21 (Dense)             (None, 1)                 51        \n=================================================================\nTotal params: 9,951\nTrainable params: 9,951\nNon-trainable params: 0\n_________________________________________________________________\n"
     ]
    }
   ],
   "source": [
    "# Define the model - deep neural net, i.e., the number of input features and hidden nodes for each layer.\n",
    "\n",
    "num_input_features = len(X_train[0])\n",
    "hidden_nodes_l1 = 50\n",
    "hidden_nodes_l2 = 50\n",
    "hidden_nodes_l3 = 50\n",
    "hidden_nodes_l4 = 50\n",
    "\n",
    "nn = tf.keras.models.Sequential()\n",
    "\n",
    "# First hidden layer\n",
    "nn.add(tf.keras.layers.Dense(units=hidden_nodes_l1, input_dim=num_input_features, activation='relu'))\n",
    "\n",
    "# Second hidden layer\n",
    "nn.add(tf.keras.layers.Dense(units=hidden_nodes_l2, activation='tanh'))\n",
    "\n",
    "# Third hidden layer\n",
    "nn.add(tf.keras.layers.Dense(units=hidden_nodes_l3, activation='tanh'))\n",
    "\n",
    "# Fourth hidden layer\n",
    "nn.add(tf.keras.layers.Dense(units=hidden_nodes_l4, activation='sigmoid'))\n",
    "\n",
    "# Output layer\n",
    "nn.add(tf.keras.layers.Dense(units=1, activation='sigmoid'))\n",
    "\n",
    "# Check the structure of the model\n",
    "nn.summary()"
   ]
  },
  {
   "cell_type": "code",
   "execution_count": 66,
   "metadata": {},
   "outputs": [],
   "source": [
    "# Import checkpoint dependencies\n",
    "import os\n",
    "from tensorflow.keras.callbacks import ModelCheckpoint\n",
    "\n",
    "# Define the checkpoint path and filenames\n",
    "os.makedirs(\"checkpoints/\",exist_ok=True)\n",
    "checkpoint_path = \"checkpoints/weights.{epoch:02d}.hdf5\""
   ]
  },
  {
   "cell_type": "code",
   "execution_count": 67,
   "metadata": {},
   "outputs": [],
   "source": [
    "# Compile the model\n",
    "nn.compile(loss='binary_crossentropy', optimizer='adam', metrics=['accuracy'])"
   ]
  },
  {
   "cell_type": "code",
   "execution_count": 68,
   "metadata": {},
   "outputs": [],
   "source": [
    "# Create a callback that saves the model's weights every 5 epochs\n",
    "cp_callback = ModelCheckpoint(\n",
    "    filepath=checkpoint_path,\n",
    "    verbose=1,\n",
    "    save_weights_only=True,\n",
    "    save_freq=1000)"
   ]
  },
  {
   "cell_type": "code",
   "execution_count": 69,
   "metadata": {},
   "outputs": [
    {
     "output_type": "stream",
     "name": "stdout",
     "text": [
      "Epoch 1/30\n",
      "804/804 [==============================] - 1s 1ms/step - loss: 0.6934 - accuracy: 0.5211\n",
      "Epoch 2/30\n",
      "804/804 [==============================] - 1s 1ms/step - loss: 0.6924 - accuracy: 0.5303\n",
      "Epoch 3/30\n",
      "804/804 [==============================] - 2s 2ms/step - loss: 0.6924 - accuracy: 0.5301\n",
      "Epoch 4/30\n",
      "804/804 [==============================] - 1s 1ms/step - loss: 0.6921 - accuracy: 0.5257\n",
      "Epoch 5/30\n",
      "804/804 [==============================] - 1s 1ms/step - loss: 0.6925 - accuracy: 0.5233\n",
      "Epoch 6/30\n",
      "804/804 [==============================] - 1s 1ms/step - loss: 0.6921 - accuracy: 0.5294\n",
      "Epoch 7/30\n",
      "804/804 [==============================] - 1s 1ms/step - loss: 0.6921 - accuracy: 0.5277\n",
      "Epoch 8/30\n",
      "804/804 [==============================] - 1s 1ms/step - loss: 0.6921 - accuracy: 0.5288\n",
      "Epoch 9/30\n",
      "804/804 [==============================] - 1s 1ms/step - loss: 0.6917 - accuracy: 0.5308\n",
      "Epoch 10/30\n",
      "804/804 [==============================] - 1s 1ms/step - loss: 0.6913 - accuracy: 0.5304\n",
      "Epoch 11/30\n",
      "804/804 [==============================] - 1s 1ms/step - loss: 0.6917 - accuracy: 0.5318\n",
      "Epoch 12/30\n",
      "804/804 [==============================] - 1s 1ms/step - loss: 0.6916 - accuracy: 0.5318\n",
      "Epoch 13/30\n",
      "804/804 [==============================] - 1s 1ms/step - loss: 0.6913 - accuracy: 0.5318\n",
      "Epoch 14/30\n",
      "804/804 [==============================] - 1s 1ms/step - loss: 0.6915 - accuracy: 0.5318\n",
      "Epoch 15/30\n",
      "804/804 [==============================] - 1s 1ms/step - loss: 0.6914 - accuracy: 0.5318\n",
      "Epoch 16/30\n",
      "804/804 [==============================] - 1s 2ms/step - loss: 0.6914 - accuracy: 0.5318\n",
      "Epoch 17/30\n",
      "804/804 [==============================] - 1s 2ms/step - loss: 0.6915 - accuracy: 0.5318\n",
      "Epoch 18/30\n",
      "804/804 [==============================] - 1s 2ms/step - loss: 0.6913 - accuracy: 0.5318\n",
      "Epoch 19/30\n",
      "804/804 [==============================] - 1s 1ms/step - loss: 0.6913 - accuracy: 0.5318\n",
      "Epoch 20/30\n",
      "804/804 [==============================] - 1s 2ms/step - loss: 0.6912 - accuracy: 0.5318\n",
      "Epoch 21/30\n",
      "804/804 [==============================] - 1s 2ms/step - loss: 0.6913 - accuracy: 0.5318\n",
      "Epoch 22/30\n",
      "804/804 [==============================] - 1s 2ms/step - loss: 0.6913 - accuracy: 0.5318\n",
      "Epoch 23/30\n",
      "804/804 [==============================] - 1s 2ms/step - loss: 0.6914 - accuracy: 0.5318\n",
      "Epoch 24/30\n",
      "804/804 [==============================] - 1s 1ms/step - loss: 0.6913 - accuracy: 0.5318\n",
      "Epoch 25/30\n",
      "804/804 [==============================] - 1s 1ms/step - loss: 0.6912 - accuracy: 0.5318\n",
      "Epoch 26/30\n",
      "804/804 [==============================] - 1s 2ms/step - loss: 0.6913 - accuracy: 0.5318\n",
      "Epoch 27/30\n",
      "804/804 [==============================] - 1s 1ms/step - loss: 0.6913 - accuracy: 0.5318\n",
      "Epoch 28/30\n",
      "804/804 [==============================] - 1s 1ms/step - loss: 0.6912 - accuracy: 0.5318\n",
      "Epoch 29/30\n",
      "804/804 [==============================] - 1s 2ms/step - loss: 0.6912 - accuracy: 0.5318\n",
      "Epoch 30/30\n",
      "804/804 [==============================] - 1s 2ms/step - loss: 0.6913 - accuracy: 0.5318\n"
     ]
    }
   ],
   "source": [
    "# Train the model\n",
    "fit_model = nn.fit(X_train, y_train, epochs=30)"
   ]
  },
  {
   "cell_type": "code",
   "execution_count": 70,
   "metadata": {},
   "outputs": [
    {
     "output_type": "stream",
     "name": "stdout",
     "text": [
      "268/268 - 0s - loss: 0.6931 - accuracy: 0.5345\n",
      "Loss: 0.6930848956108093, Accuracy: 0.5344606637954712\n"
     ]
    }
   ],
   "source": [
    "# Evaluate the model using the test data\n",
    "model_loss, model_accuracy = nn.evaluate(X_test_scaled,y_test,verbose=2)\n",
    "print(f\"Loss: {model_loss}, Accuracy: {model_accuracy}\")"
   ]
  },
  {
   "cell_type": "code",
   "execution_count": 71,
   "metadata": {},
   "outputs": [],
   "source": [
    "# Export to HDF5\n",
    "nn.save('AlphabetSoupCharity.h5')"
   ]
  },
  {
   "cell_type": "code",
   "execution_count": null,
   "metadata": {},
   "outputs": [],
   "source": []
  }
 ]
}